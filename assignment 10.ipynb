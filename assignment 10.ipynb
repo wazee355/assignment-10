{
 "cells": [
  {
   "cell_type": "raw",
   "id": "6918b6c0",
   "metadata": {},
   "source": [
    "1. How do you distinguish between shutil.copy() and shutil.copytree()?\n",
    "\n",
    "Answer- The shutil.copy will copy a single file, while shutil.copytree() will copy an entire folder, along with all its contents."
   ]
  },
  {
   "cell_type": "raw",
   "id": "ef2c664b",
   "metadata": {},
   "source": [
    "2. What function is used to rename files??\n",
    "\n",
    "ANswer- The shutil.move() function is used for renaming files, as well as moving them."
   ]
  },
  {
   "cell_type": "raw",
   "id": "5dbfec10",
   "metadata": {},
   "source": [
    "3. What is the difference between the delete functions in the send2trash and shutil modules?\n",
    "\n",
    "Answer- The send2trash function will move a file or folder to the recycle bin, while shutil function will permanently delete files and folders."
   ]
  },
  {
   "cell_type": "raw",
   "id": "f09728b4",
   "metadata": {},
   "source": [
    "4.ZipFile objects have a close() method just like File objects’ close() method. What ZipFile method is equivalent to File objects’ open() method?\n",
    "\n",
    "Answer- The zip file is equivalent to the open() function; the first argumnent is the filename, and the second argument is the mode to open the ZIP file in ( read, write or append )."
   ]
  },
  {
   "cell_type": "code",
   "execution_count": 10,
   "id": "fd2b1f10",
   "metadata": {},
   "outputs": [],
   "source": [
    "#5. Create a programme that searches a folder tree for files with a certain file extension (such as .pdf or .jpg). Copy these files from whatever location they are in to a new folder.\n",
    " \n",
    "\n",
    "import os \n",
    "import shutil\n",
    "\n",
    "src= \"D:\\backup\"\n",
    "os.getcwd()+'\\\\trial\\\\'\n",
    "#print(dest)\n",
    "\n",
    "for dirs, subdirs, files in os.walk(src):\n",
    "    for file in files:\n",
    "        if file.endswith('.jpg'):\n",
    "            print(file)\n",
    "            filename = os.path.join(src, dirs, file)\n",
    "            if os.path.exists(filename):\n",
    "                print(filename)\n",
    "                shutil.copy(filename,dest)\n",
    "\n",
    "\n",
    "                "
   ]
  },
  {
   "cell_type": "code",
   "execution_count": null,
   "id": "8873f94a",
   "metadata": {},
   "outputs": [],
   "source": []
  }
 ],
 "metadata": {
  "kernelspec": {
   "display_name": "Python 3 (ipykernel)",
   "language": "python",
   "name": "python3"
  },
  "language_info": {
   "codemirror_mode": {
    "name": "ipython",
    "version": 3
   },
   "file_extension": ".py",
   "mimetype": "text/x-python",
   "name": "python",
   "nbconvert_exporter": "python",
   "pygments_lexer": "ipython3",
   "version": "3.9.7"
  }
 },
 "nbformat": 4,
 "nbformat_minor": 5
}
